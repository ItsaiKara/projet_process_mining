{
 "cells": [
  {
   "cell_type": "code",
   "execution_count": null,
   "metadata": {},
   "outputs": [],
   "source": [
    "import pm4py\n",
    "import pandas as pd\n",
    "import matplotlib.pyplot as plt\n",
    "import seaborn as sns\n",
    "import warnings"
   ]
  },
  {
   "cell_type": "code",
   "execution_count": null,
   "metadata": {},
   "outputs": [],
   "source": [
    "warnings.filterwarnings('ignore')"
   ]
  },
  {
   "cell_type": "code",
   "execution_count": null,
   "metadata": {},
   "outputs": [],
   "source": [
    "log_low = pm4py.read_xes('data/renting_log_low.xes')\n",
    "log_medium = pm4py.read_xes('data/renting_log_medium.xes')\n",
    "log_high = pm4py.read_xes('data/renting_log_high.xes')"
   ]
  },
  {
   "cell_type": "code",
   "execution_count": null,
   "metadata": {},
   "outputs": [],
   "source": [
    "def flat_dataset(log):\n",
    "    flat_data = log \\\n",
    "        .groupby(['case:case']) \\\n",
    "        .agg(\n",
    "            germanSpeaking=('case:german speaking', 'first'),\n",
    "            yearsOfEducation=('case:yearsOfEducation', 'first'),\n",
    "            age=('case:age', 'first'),\n",
    "            gender=('case:gender', 'first'),\n",
    "            citizen=('case:citizen', 'first'),\n",
    "            protected=('case:protected', 'first'),\n",
    "            married=('case:married', 'first')\n",
    "        )\n",
    "    \n",
    "    flat_data['ageGroup'] = pd.cut(\n",
    "        flat_data['age'],\n",
    "        bins=[0, 25, 50, 200],\n",
    "        labels=['0-25', '25-50', '>50']\n",
    "    )\n",
    "    \n",
    "    flat_data['screening'] = log \\\n",
    "        .groupby(['case:case'])['concept:name'] \\\n",
    "        .transform(lambda x: 'Screen Prospective Tenant' in x.values)\n",
    "    \n",
    "    flat_data['extensiveScreening'] = log \\\n",
    "        .groupby(['case:case'])['concept:name'] \\\n",
    "        .transform(lambda x: 'Extensive Screening' in x.values)\n",
    "    \n",
    "    flat_data['contract'] = log \\\n",
    "        .groupby(['case:case'])['concept:name'] \\\n",
    "        .transform(lambda x: 'Sign Contract' in x.values)\n",
    "    \n",
    "    flat_data['denied'] = log \\\n",
    "        .groupby(['case:case'])['concept:name'] \\\n",
    "        .transform(lambda x: 'Reject Prospective Tenant' in x.values)\n",
    "    \n",
    "    flat_data['missedPayments'] = log \\\n",
    "        .groupby(['case:case'])['concept:name'] \\\n",
    "        .transform(lambda x: x.str.contains('Miss Rent Payment').sum())\n",
    "    \n",
    "    flat_data['latePayments'] = log \\\n",
    "        .groupby(['case:case'])['concept:name'] \\\n",
    "        .transform(lambda x: x.str.contains('Accept Late Payment').sum())\n",
    "    \n",
    "    flat_data['evicted'] = log \\\n",
    "        .groupby(['case:case'])['concept:name'] \\\n",
    "        .transform(lambda x: 'Evict Tenant' in x.values)\n",
    "    \n",
    "    flat_data['cancelled'] = log \\\n",
    "        .groupby(['case:case'])['concept:name'] \\\n",
    "        .transform(lambda x: 'Tenant Cancels Appartment' in x.values)\n",
    "    \n",
    "    flat_data['duration'] = log \\\n",
    "        .groupby(['case:case'])['time:timestamp'] \\\n",
    "        .transform(lambda x: (x.max() - x.min()).days)\n",
    "\n",
    "    return flat_data"
   ]
  },
  {
   "cell_type": "code",
   "execution_count": null,
   "metadata": {},
   "outputs": [],
   "source": [
    "flat_low = flat_dataset(log_low)\n",
    "flat_medium = flat_dataset(log_medium)\n",
    "flat_high = flat_dataset(log_high)"
   ]
  },
  {
   "cell_type": "code",
   "execution_count": null,
   "metadata": {},
   "outputs": [],
   "source": [
    "flat_low"
   ]
  },
  {
   "cell_type": "markdown",
   "metadata": {},
   "source": [
    "## Acceptance / Denial"
   ]
  },
  {
   "cell_type": "code",
   "execution_count": null,
   "metadata": {},
   "outputs": [],
   "source": [
    "def print_acceptance_denial_counts(flat_data):\n",
    "    for column in ['gender', 'ageGroup', 'germanSpeaking', 'married', 'citizen', 'protected', 'yearsOfEducation']:\n",
    "        print('-------------------------------------------------------')\n",
    "        print('Column: ', column)\n",
    "\n",
    "        distinct_values = flat_data[column].unique()\n",
    "\n",
    "        for value in sorted(distinct_values):\n",
    "            accepted_n = len(flat_data[(flat_data[column] == value) & (flat_data['contract'] == True)])\n",
    "            denied_n = len(flat_data[(flat_data[column] == value) & (flat_data['denied'] == True)])\n",
    "            total_n = len(flat_data[flat_data[column] == value])\n",
    "\n",
    "            print(\"\\tValue: \", value)\n",
    "            print('\\t- Accepted: ', accepted_n, '->', round(accepted_n / total_n, 5) * 100, '%' )\n",
    "            print('\\t- Denied: ', denied_n, '->', round(denied_n / total_n, 5) * 100, '%' )\n",
    "            print()\n",
    "\n",
    "        # plot bar chart\n",
    "        fig, ax = plt.subplots(figsize=(10, 5))\n",
    "        sns.countplot(x=column, hue='contract', data=flat_data, ax=ax)\n",
    "        plt.title(column)\n",
    "        plt.show()"
   ]
  },
  {
   "cell_type": "markdown",
   "metadata": {},
   "source": [
    "### Low dataset"
   ]
  },
  {
   "cell_type": "code",
   "execution_count": null,
   "metadata": {},
   "outputs": [],
   "source": [
    "print_acceptance_denial_counts(flat_low)"
   ]
  },
  {
   "cell_type": "markdown",
   "metadata": {},
   "source": [
    "### Medium dataset"
   ]
  },
  {
   "cell_type": "code",
   "execution_count": null,
   "metadata": {},
   "outputs": [],
   "source": [
    "print_acceptance_denial_counts(flat_medium)"
   ]
  },
  {
   "cell_type": "markdown",
   "metadata": {},
   "source": [
    "### High dataset"
   ]
  },
  {
   "cell_type": "code",
   "execution_count": null,
   "metadata": {},
   "outputs": [],
   "source": [
    "print_acceptance_denial_counts(flat_high)"
   ]
  },
  {
   "cell_type": "markdown",
   "metadata": {},
   "source": [
    "## Eviction / Cancelation"
   ]
  },
  {
   "cell_type": "code",
   "execution_count": null,
   "metadata": {},
   "outputs": [],
   "source": [
    "def print_eviction_cancellation_counts():\n",
    "    for column in ['gender', 'ageGroup', 'germanSpeaking', 'married', 'citizen', 'protected', 'yearsOfEducation']:\n",
    "        print('-------------------------------------------------------')\n",
    "        print('Column: ', column)\n",
    "\n",
    "        for dataset_name, dataset in [('low', flat_low), ('medium', flat_medium), ('high', flat_high)]:\n",
    "            print(f'\\tDataset: {dataset_name}')\n",
    "\n",
    "            distinct_values = dataset[column].unique()\n",
    "\n",
    "            for value in sorted(distinct_values):\n",
    "                evicted_n = len(dataset[(dataset[column] == value) & (dataset['contract'] == True) & (dataset['evicted'] == True)])\n",
    "                canceled_n = len(dataset[(dataset[column] == value) & (dataset['contract'] == True) & (dataset['cancelled'] == True)])\n",
    "                total_n = len(dataset[(dataset[column] == value) & (dataset['contract'] == True)]) + 1e-10\n",
    "\n",
    "                print(\"\\t\\tValue: \", value)\n",
    "                print(f\"\\t\\t- Evicted: {evicted_n} -> {round(evicted_n / total_n, 5) * 100} %\")\n",
    "                print(f\"\\t\\t- Canceled: {canceled_n} -> {round(canceled_n / total_n, 5) * 100} %\")\n",
    "                print()\n",
    "\n",
    "        # plot bar chart for all three datasets in a same figure\n",
    "        fig, ax = plt.subplots(1, 3, figsize=(15, 5))\n",
    "        fig.suptitle(column)\n",
    "\n",
    "        sns.countplot(x=column, hue='evicted', data=flat_low[flat_low['contract'] == True], ax=ax[0])\n",
    "        ax[0].set_title('low')\n",
    "\n",
    "        sns.countplot(x=column, hue='evicted', data=flat_medium[flat_medium['contract'] == True], ax=ax[1])\n",
    "        ax[1].set_title('medium')\n",
    "\n",
    "        sns.countplot(x=column, hue='evicted', data=flat_high[flat_high['contract'] == True], ax=ax[2])\n",
    "        ax[2].set_title('high')\n",
    "\n"
   ]
  },
  {
   "cell_type": "code",
   "execution_count": null,
   "metadata": {},
   "outputs": [],
   "source": [
    "print_eviction_cancellation_counts()"
   ]
  }
 ],
 "metadata": {
  "kernelspec": {
   "display_name": "Python 3",
   "language": "python",
   "name": "python3"
  },
  "language_info": {
   "codemirror_mode": {
    "name": "ipython",
    "version": 3
   },
   "file_extension": ".py",
   "mimetype": "text/x-python",
   "name": "python",
   "nbconvert_exporter": "python",
   "pygments_lexer": "ipython3",
   "version": "3.10.12"
  }
 },
 "nbformat": 4,
 "nbformat_minor": 2
}
